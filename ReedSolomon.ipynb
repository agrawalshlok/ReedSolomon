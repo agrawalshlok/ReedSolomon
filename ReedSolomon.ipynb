{
  "cells": [
    {
      "cell_type": "markdown",
      "metadata": {
        "id": "bnGOZLw24ktf"
      },
      "source": [
        "\n",
        "**Installation**"
      ]
    },
    {
      "cell_type": "code",
      "execution_count": 65,
      "metadata": {
        "colab": {
          "base_uri": "https://localhost:8080/"
        },
        "id": "cmQXRa0M9nWG",
        "outputId": "ffa15134-f480-453e-8adc-1c1b00c2e2a8"
      },
      "outputs": [
        {
          "name": "stdout",
          "output_type": "stream",
          "text": [
            "Looking in indexes: https://pypi.org/simple, https://us-python.pkg.dev/colab-wheels/public/simple/\n",
            "Requirement already satisfied: gmpy2 in /usr/local/lib/python3.10/dist-packages (2.1.5)\n"
          ]
        }
      ],
      "source": [
        "!pip install gmpy2"
      ]
    },
    {
      "cell_type": "markdown",
      "metadata": {
        "id": "uynNQaBwBgwh"
      },
      "source": [
        "**Code**"
      ]
    },
    {
      "cell_type": "code",
      "execution_count": 66,
      "metadata": {
        "id": "2ImHaxef4ktg"
      },
      "outputs": [],
      "source": [
        "from gmpy2 import mpz, next_prime\n",
        "from math import ceil\n",
        "import random\n",
        "\n",
        "def binaryEGCD(a, b):\n",
        "    r = mpz(a)\n",
        "    rr = mpz(b)\n",
        "    e = 0\n",
        "    while (r % 2 == 0 and rr % 2 == 0):\n",
        "        r >>= 1\n",
        "        rr >>= 1\n",
        "        e += 1\n",
        "    \n",
        "    aa = r\n",
        "    bb = rr\n",
        "    s = mpz(1)\n",
        "    t = mpz(0)\n",
        "    ss = mpz(0)\n",
        "    tt = mpz(1)\n",
        "\n",
        "    while (rr != 0):\n",
        "        while (r % 2 == 0):\n",
        "            r >>= 1\n",
        "            if (s % 2 == 0 and t % 2 == 0):\n",
        "                s >>= 1\n",
        "                t >>= 1\n",
        "            else:\n",
        "                s = (s + bb) >> 1\n",
        "                t = (t - aa) >> 1\n",
        "            \n",
        "        while (rr % 2 == 0):\n",
        "            rr >>= 1\n",
        "            if (ss % 2 == 0 and tt % 2 == 0):\n",
        "                ss >>= 1\n",
        "                tt >>= 1\n",
        "            else:\n",
        "                ss = (ss + bb) >> 1\n",
        "                tt = (tt - aa) >> 1\n",
        "        \n",
        "        if (rr < r):\n",
        "            (r, s, t, rr, ss, tt) = (rr, ss, tt, r, s, t)\n",
        "        rr -= r\n",
        "        ss -= s\n",
        "        tt -= t\n",
        "    \n",
        "    d = (1 << e) * r\n",
        "    return (d, s, t)\n",
        "\n",
        "def EGCD(a, b):\n",
        "    r = [mpz(a), mpz(b)]\n",
        "    s = [mpz(1), mpz(0)]\n",
        "    t = [mpz(0), mpz(1)]\n",
        "\n",
        "    while (1):\n",
        "        qi = a // b # these are previous ones\n",
        "        ri = a % b\n",
        "        si = s[-2] - qi * s[-1] # s(i+1) = s(i-1) - q(i)s(i)\n",
        "        ti = t[-2] - qi * t[-1] # t(i+1) = t(i-1) - q(i)t(i) \n",
        "\n",
        "        r.append(mpz(ri))\n",
        "        s.append(mpz(si))\n",
        "        t.append(mpz(ti))\n",
        "        a = b\n",
        "        b = ri\n",
        "        if (ri == 0):\n",
        "            break\n",
        "\n",
        "    return (r, s, t)\n",
        "\n",
        "def inverse(b, n): #b^(-1) mod(n)\n",
        "    (d, s, t) = binaryEGCD(n, b)\n",
        "    if (d != 1): # inverse doesn't exist\n",
        "        return -1\n",
        "    elif (t < 0):\n",
        "        return n + t\n",
        "    else:\n",
        "        return t\n",
        "\n",
        "def CRT(A, N):\n",
        "    n = mpz(1)\n",
        "    for x in N:\n",
        "        n *= mpz(x)\n",
        "    a = 0\n",
        "\n",
        "    for i in range (0, len(A)):\n",
        "        ni = mpz(n) // mpz(N[i])\n",
        "\n",
        "        # brute force method to calculate ni\n",
        "        # ni = mpz(1)\n",
        "        # for j in range (0, len(N)):\n",
        "        #     if (i == j):\n",
        "        #         continue\n",
        "        #     ni *= mpz(N[j])\n",
        "\n",
        "        bi = ni % N[i]\n",
        "        ti = inverse(bi, N[i])\n",
        "        ei = (mpz(ni) * mpz(ti)) % n\n",
        "        a = (a + (mpz(A[i]) * ei) % n) % n\n",
        "\n",
        "    return a\n",
        "\n",
        "class ReedSolomon:\n",
        "    def __init__(self, M, mu): # functions as GlobalSetup(mu, M)\n",
        "        self.M = M\n",
        "        self.mu = mu\n",
        "        self.N = [2] # ni's\n",
        "        mulPrefix = [1, mpz(2)] # mulPrefix[i] stores product of N[j] such that j < i \n",
        "        self.P = mpz(2) # since k is atleast 1\n",
        "        self.n = mpz(2) # since k is atleast 1\n",
        "        while (self.n <= 2 * self.P * self.P * self.M):\n",
        "            self.N.append(next_prime(self.N[-1]))\n",
        "            self.n *= self.N[-1]\n",
        "            mulPrefix.append(self.n)\n",
        "            l = mpz(ceil(mu * len(self.N)))\n",
        "            self.P = mulPrefix[-1] // mulPrefix[len(mulPrefix) - l - 1]\n",
        "            if (self.N[-1] > (1 << 16)): # bound on the max prime number taken - equivalent to bound on k\n",
        "                break\n",
        "\n",
        "            # bruteforce method to calculate P\n",
        "            # self.P = mpz(1)\n",
        "            # for i in range(l):\n",
        "            #     self.P *= self.N[-1 - i]\n",
        "\n",
        "        self.k = len(self.N)\n",
        "\n",
        "    def ReedSolomonSend(self, a):\n",
        "        A = []\n",
        "        for x in self.N:\n",
        "            A.append(a % x)\n",
        "        return self.Transmit(A)\n",
        "    \n",
        "    def Transmit(self, A):\n",
        "        l = random.randint(0, ceil(self.mu * self.k)) # random number of positions which will get corrupted\n",
        "        map = []\n",
        "        for i in range(self.k):\n",
        "            map.append(0)\n",
        "        ll = 0\n",
        "        B = []\n",
        "        while (ll < l):\n",
        "            rn = random.randint(0, self.k - 1) # randomly choosing which l positions will get corrupted\n",
        "            if (map[rn] == 0):\n",
        "                map[rn] = 1\n",
        "                ll += 1\n",
        "        for i in range(0, self.k):\n",
        "            if (map[i] == 1):\n",
        "                bi = random.randint(0, self.N[i] - 1) # corrupting \n",
        "                while (bi == A[i]):\n",
        "                    bi = random.randint(0, self.N[i] - 1)\n",
        "                B.append(bi)\n",
        "            else:\n",
        "                B.append(A[i])\n",
        "        \n",
        "        return B\n",
        "    \n",
        "    def ReedSolomonReceive(self, B):\n",
        "        b = CRT(B, self.N) \n",
        "        rr = mpz(self.M * self.P) # r* = MP in rational reconstruction\n",
        "        ri, si, ti = EGCD(self.n, b)\n",
        "        for j in range(0, len(ri)):\n",
        "            if (ri[j] <= rr): \n",
        "                rd = ri[j]\n",
        "                td = ti[j]\n",
        "                break\n",
        "\n",
        "        if (td == 0 or rd % td != 0):\n",
        "            return -1\n",
        "        else:\n",
        "            a = (rd // td)\n",
        "            return a\n",
        "        \n"
      ]
    },
    {
      "cell_type": "code",
      "execution_count": null,
      "metadata": {
        "id": "ntIHbFzT7NuX"
      },
      "outputs": [],
      "source": [
        "# user input based interactive main\n",
        "# don't run if interactive main is not desired\n",
        "\n",
        "def nonNegativeMu():\n",
        "    mu = float(input(\"Enter corruption factor: \"))\n",
        "    while (mu < 0):\n",
        "        print(\"Corruption factor can't be negative. Retry\")\n",
        "        mu = float(input(\"Enter corruption factor: \"))\n",
        "    return mu\n",
        "\n",
        "def inputvalues():\n",
        "    M = int(input(\"Enter M: \"))\n",
        "    while (M < 0):\n",
        "        print(\"M can't be negative. Retry\")\n",
        "        M = int(input(\"Enter M: \"))\n",
        "    mu = nonNegativeMu() \n",
        "    while (mu > 0.46):\n",
        "        print(\"Warning! The corruption factor is too large and it might not be able reconstruct messages.\")\n",
        "        print(\"Press 0: Continue\")\n",
        "        print(\"Press 1: Enter new corruption factor\")\n",
        "        choice = int(input())\n",
        "        if (choice == 0):\n",
        "            break\n",
        "        elif (choice == 1):\n",
        "            mu = nonNegativeMu()\n",
        "        else:\n",
        "            print(\"Enter valid choice.\")\n",
        "\n",
        "    return (M, mu)\n",
        "  \n",
        "M, mu = inputvalues()\n",
        "rs = ReedSolomon(M, mu)\n",
        "while (1):\n",
        "    print(\"Press 1: To enter new message to transmit\")\n",
        "    print(\"Press 2: Change (M, mu)\")\n",
        "    print(\"Press 3: Exit\")\n",
        "    choice = int(input())\n",
        "    if (choice == 1):\n",
        "        a = int(input(\"Enter message bounded by M: \"))\n",
        "        while (a > M):\n",
        "            print(\"Message must be less than or equal to M.\")\n",
        "            a = int(input(\"Enter message bounded by M: \"))\n",
        "            \n",
        "        B = rs.ReedSolomonSend(a)\n",
        "        b = rs.ReedSolomonReceive(B)\n",
        "        print(f'Reconstructed message: {b}')\n",
        "        if (a == b):\n",
        "            print(\"Successfully reconstructed.\")\n",
        "        else:\n",
        "            print(\"Reconstruction unsuccessful.\")\n",
        "    elif (choice == 2):\n",
        "        M, mu = inputvalues()\n",
        "        rs = ReedSolomon(M, mu)\n",
        "    elif (choice == 3):\n",
        "        break\n",
        "    else:\n",
        "        print(\"Enter valid choice.\")"
      ]
    },
    {
      "cell_type": "code",
      "execution_count": 68,
      "metadata": {
        "id": "xD8CUO9D7wDK"
      },
      "outputs": [],
      "source": [
        "# main for pre-determined testcases:\n",
        "# takes M and mu, and then runs with 10 random messages\n",
        "# prints success ratio\n",
        "def main(M, mu):\n",
        "  rs = ReedSolomon(M, mu)\n",
        "  success = 0\n",
        "  for i in range(0, 10):\n",
        "    a = random.randint(0, M)\n",
        "    B = rs.ReedSolomonSend(a)\n",
        "    b = rs.ReedSolomonReceive(B)\n",
        "    if (b == a):\n",
        "      success += 1\n",
        "\n",
        "  print(f'{success} out of 10 successfully reconstructed.')"
      ]
    },
    {
      "cell_type": "markdown",
      "metadata": {
        "id": "c0eqkjaCBr7C"
      },
      "source": [
        "**TESTCASES :**"
      ]
    },
    {
      "cell_type": "code",
      "execution_count": 69,
      "metadata": {
        "colab": {
          "base_uri": "https://localhost:8080/"
        },
        "id": "qCux8ACY83Nc",
        "outputId": "65bdf318-b98b-40ca-f4c1-e850e8bb44e1"
      },
      "outputs": [
        {
          "name": "stdout",
          "output_type": "stream",
          "text": [
            "10 out of 10 successfully reconstructed.\n"
          ]
        }
      ],
      "source": [
        "# Testcase 1 \n",
        "# since corruption factor is low, it will successfully reconstruct all the random messages\n",
        "M = 10**1000\n",
        "mu = 0.2\n",
        "main(M, mu)"
      ]
    },
    {
      "cell_type": "code",
      "execution_count": 70,
      "metadata": {
        "colab": {
          "base_uri": "https://localhost:8080/"
        },
        "id": "PiyKDu71LtPS",
        "outputId": "57f36aa2-f280-48b4-a7df-67700fbf5310"
      },
      "outputs": [
        {
          "name": "stdout",
          "output_type": "stream",
          "text": [
            "10 out of 10 successfully reconstructed.\n"
          ]
        }
      ],
      "source": [
        "# Testcase 2\n",
        "# since corruption factor is low, it will successfully reconstruct all the random messages\n",
        "M = 9**500\n",
        "mu = 0.4\n",
        "main(M, mu)"
      ]
    },
    {
      "cell_type": "code",
      "execution_count": 71,
      "metadata": {
        "colab": {
          "base_uri": "https://localhost:8080/"
        },
        "id": "r09scUajLzG5",
        "outputId": "f66b960b-c860-4906-aaec-513d243bc6c9"
      },
      "outputs": [
        {
          "name": "stdout",
          "output_type": "stream",
          "text": [
            "7 out of 10 successfully reconstructed.\n"
          ]
        }
      ],
      "source": [
        "# Testcase 3\n",
        "# Warning: corruption factor is too high and it will take some time to compile and the reconstruction ratio will be imperfect\n",
        "M = 11**600\n",
        "mu = 0.6\n",
        "main(M, mu)"
      ]
    },
    {
      "cell_type": "markdown",
      "metadata": {
        "id": "De9sAUt1XSBT"
      },
      "source": [
        "Note: In the testcases, the user can change the values of M and mu as they please. Further, if they want finer control, they can run the input based main. \\\\\n",
        "We have also assumed the upper limit of k (number of primes) to be 6543."
      ]
    }
  ],
  "metadata": {
    "colab": {
      "provenance": []
    },
    "gpuClass": "standard",
    "kernelspec": {
      "display_name": "Python 3",
      "name": "python3"
    },
    "language_info": {
      "name": "python"
    },
    "orig_nbformat": 4
  },
  "nbformat": 4,
  "nbformat_minor": 0
}
